{
 "cells": [
  {
   "cell_type": "code",
   "execution_count": 1,
   "metadata": {},
   "outputs": [],
   "source": [
    "from selenium.webdriver.chrome.service import Service\n",
    "from selenium.webdriver.chrome.options import Options\n",
    "import time\n",
    "import undetected_chromedriver\n",
    "from selenium.webdriver.common.by import By\n",
    "from selenium.webdriver.support.ui import Select\n",
    "import csv\n",
    "\n",
    "\n",
    "# Configura las opciones de Chrome\n",
    "chrome_options = Options()\n",
    "#chrome_options.headless = False\n",
    "\n",
    "# Específica la ruta al directorio del perfil de usuario\n",
    "\n",
    "chrome_options.add_argument('--start-maximized')\n",
    "\n",
    "# Crea un servicio de Chrome\n",
    "service = Service(\"C:\\\\tinder\\\\chromedriver.exe\")\n",
    "\n",
    "# Inicia el navegador Chrome con las opciones y el servicio configurados\n",
    "driver = undetected_chromedriver.Chrome(service=service, options=chrome_options)\n",
    "\n",
    "\n",
    "driver.get(\"https://bjn.poderjudicial.gub.uy/BJNPUBLICA/busquedaSelectiva.seam?cid=16774\")\n"
   ]
  },
  {
   "cell_type": "code",
   "execution_count": 2,
   "metadata": {},
   "outputs": [],
   "source": [
    "fecha_ante = driver.find_element(By.ID,'formBusqueda:j_id20:j_id23:fechaDesdeCalInputDate')\n",
    "fecha_ante.send_keys(\"01/01/2023\")\n",
    "time.sleep(1)"
   ]
  },
  {
   "cell_type": "code",
   "execution_count": 3,
   "metadata": {},
   "outputs": [],
   "source": [
    "fecha_despues = driver.find_element(By.ID,'formBusqueda:j_id20:j_id147:fechaHastaCalInputDate')\n",
    "fecha_despues.send_keys(\"08/12/2023\")\n",
    "time.sleep(1)"
   ]
  },
  {
   "cell_type": "code",
   "execution_count": 4,
   "metadata": {},
   "outputs": [],
   "source": [
    "elemento_input = driver.find_element(By.ID,'formBusqueda:j_id20:j_id223:cantPagcomboboxValue')\n",
    "\n",
    "# También puedes cambiar el valor del elemento si es necesario\n",
    "nuevo_valor = '200'  # Nuevo valor que quieres establecer\n",
    "driver.execute_script(\"arguments[0].setAttribute('value', arguments[1])\", elemento_input, nuevo_valor)\n",
    "time.sleep(1)\n"
   ]
  },
  {
   "cell_type": "code",
   "execution_count": 5,
   "metadata": {},
   "outputs": [],
   "source": [
    "select_element = driver.find_element(By.NAME, \"formBusqueda:j_id20:j_id240:j_id248\")\n",
    "\n",
    "# Crear un objeto Select a partir del elemento encontrado\n",
    "select = Select(select_element)\n",
    "\n",
    "# Seleccionar la opción por valor\n",
    "select.select_by_value(\"FECHA_ASCENDENTE\")\n",
    "time.sleep(1)"
   ]
  },
  {
   "cell_type": "code",
   "execution_count": 6,
   "metadata": {},
   "outputs": [],
   "source": [
    "fecha_despues = driver.find_element(By.ID,'formBusqueda:j_id20:Search')\n",
    "fecha_despues.click()\n",
    "time.sleep(10)"
   ]
  },
  {
   "cell_type": "code",
   "execution_count": 10,
   "metadata": {},
   "outputs": [
    {
     "name": "stdout",
     "output_type": "stream",
     "text": [
      "El valor es: 19\n"
     ]
    }
   ],
   "source": [
    "elemento_span = driver.find_elements(By.CLASS_NAME, 'negrita')\n",
    "# Obtener el texto del elemento\n",
    "texto_span = elemento_span[1].text\n",
    "\n",
    "# Extraer el valor \"375\" del texto\n",
    "valor = int(texto_span.split()[-1] ) # Esto toma la última palabra del texto\n",
    "\n",
    "print(\"El valor es:\", valor)\n",
    "\n",
    "valor = 3\n",
    "\n",
    "for i in range(valor):\n",
    "    tabla = driver.find_element(By.ID,'formResultados:dataTable')\n",
    "\n",
    "    # Obtener todas las filas de la tabla\n",
    "    filas = tabla.find_elements(By.TAG_NAME,'tr')\n",
    "\n",
    "    datos_tabla = []\n",
    "\n",
    "    # Iterar sobre las filas para obtener los datos de cada celda\n",
    "    for fila in filas:\n",
    "        # Obtener las celdas de cada fila\n",
    "        celdas = fila.find_elements(By.TAG_NAME, 'td')\n",
    "        datos_fila = []\n",
    "        for celda in celdas:\n",
    "            # Obtener el texto de cada celda\n",
    "            datos_fila.append(celda.text)\n",
    "        # Agregar los datos de la fila a la lista de datos de la tabla\n",
    "        datos_tabla.append(datos_fila)\n",
    "\n",
    "    # Escribir los datos en un archivo CSV\n",
    "    encabezado = ['Fecha', 'Tipo', 'Numero', 'Sede Sentencia', 'Procedimiento']\n",
    "\n",
    "    # Nombre del archivo CSV\n",
    "    nombre_archivo_csv = 'datos_tabla.csv'\n",
    "\n",
    "    # Abrir el archivo CSV en modo de adición ('a' para 'append')\n",
    "    with open(nombre_archivo_csv, 'a', newline='', encoding='utf-8') as archivo_csv:\n",
    "        escritor_csv = csv.writer(archivo_csv)\n",
    "\n",
    "        # Comprobar si el archivo está vacío\n",
    "        archivo_vacio = archivo_csv.tell() == 0\n",
    "\n",
    "        # Escribir el encabezado si el archivo está vacío\n",
    "        if archivo_vacio:\n",
    "            escritor_csv.writerow(encabezado)\n",
    "\n",
    "        # Escribir los datos en el archivo sin sobrescribir\n",
    "        for fila in datos_tabla:\n",
    "            escritor_csv.writerow(fila)\n",
    "    siguiente = driver.find_element(By.ID, 'formResultados:sigLink')\n",
    "    siguiente.click()\n",
    "    time.sleep(10)\n"
   ]
  }
 ],
 "metadata": {
  "kernelspec": {
   "display_name": "Python 3",
   "language": "python",
   "name": "python3"
  },
  "language_info": {
   "codemirror_mode": {
    "name": "ipython",
    "version": 3
   },
   "file_extension": ".py",
   "mimetype": "text/x-python",
   "name": "python",
   "nbconvert_exporter": "python",
   "pygments_lexer": "ipython3",
   "version": "3.10.6"
  }
 },
 "nbformat": 4,
 "nbformat_minor": 2
}
